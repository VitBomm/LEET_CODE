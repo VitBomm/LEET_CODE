{
 "cells": [
  {
   "cell_type": "markdown",
   "metadata": {},
   "source": [
    "![1179](https://i.ibb.co/ZSV30DH/Screenshot-from-2019-12-20-08-39-58.png)"
   ]
  },
  {
   "cell_type": "markdown",
   "metadata": {},
   "source": [
    "select id,<br>\n",
    "       sum(case when month = 'Jan' then revenue else null end) as Jan_Revenue,<br>\n",
    "       sum(case when month = 'Feb' then revenue else null end) as Feb_Revenue,<br>\n",
    "       sum(case when month = 'Mar' then revenue else null end) as Mar_Revenue,<br>\n",
    "       sum(case when month = 'Apr' then revenue else null end) as Apr_Revenue,<br>\n",
    "       sum(case when month = 'May' then revenue else null end) as May_Revenue,<br>\n",
    "       sum(case when month = 'Jun' then revenue else null end) as Jun_Revenue,<br>\n",
    "       sum(case when month = 'Jul' then revenue else null end) as Jul_Revenue,<br>\n",
    "       sum(case when month = 'Aug' then revenue else null end) as Aug_Revenue,<br>\n",
    "       sum(case when month = 'Sep' then revenue else null end) as Sep_Revenue,<br>\n",
    "       sum(case when month = 'Oct' then revenue else null end) as Oct_Revenue,<br>\n",
    "       sum(case when month = 'Nov' then revenue else null end) as Nov_Revenue,<br>\n",
    "       sum(case when month = 'Dec' then revenue else null end) as Dec_Revenue<br>\n",
    "from Department<br>\n",
    "group by id "
   ]
  }
 ],
 "metadata": {
  "kernelspec": {
   "display_name": "Python 3",
   "language": "python",
   "name": "python3"
  },
  "language_info": {
   "codemirror_mode": {
    "name": "ipython",
    "version": 3
   },
   "file_extension": ".py",
   "mimetype": "text/x-python",
   "name": "python",
   "nbconvert_exporter": "python",
   "pygments_lexer": "ipython3",
   "version": "3.6.8"
  }
 },
 "nbformat": 4,
 "nbformat_minor": 2
}
