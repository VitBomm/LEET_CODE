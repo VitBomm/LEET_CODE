{
 "cells": [
  {
   "cell_type": "markdown",
   "metadata": {},
   "source": [
    "![IMAGE](https://i.ibb.co/4ZMYjd4/Screenshot-from-2019-12-20-09-50-48.png)"
   ]
  },
  {
   "cell_type": "markdown",
   "metadata": {},
   "source": [
    "https://leetcode.com/problems/swap-salary/"
   ]
  },
  {
   "cell_type": "markdown",
   "metadata": {},
   "source": [
    "update salary s <br>\n",
    "set s.sex = decode(s.sex, 'm', 'f', 'f', 'm');"
   ]
  }
 ],
 "metadata": {
  "kernelspec": {
   "display_name": "Python 3",
   "language": "python",
   "name": "python3"
  },
  "language_info": {
   "codemirror_mode": {
    "name": "ipython",
    "version": 3
   },
   "file_extension": ".py",
   "mimetype": "text/x-python",
   "name": "python",
   "nbconvert_exporter": "python",
   "pygments_lexer": "ipython3",
   "version": "3.6.8"
  }
 },
 "nbformat": 4,
 "nbformat_minor": 2
}
